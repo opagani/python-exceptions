{
 "cells": [
  {
   "cell_type": "markdown",
   "id": "7c71250e-0e76-4a81-a85d-5fe46749edb0",
   "metadata": {},
   "source": [
    "# Agenda: Exceptions\n",
    "\n",
    "1. What are exceptions? (And what are they not?)\n",
    "2. Getting exceptions\n",
    "3. Handling exceptions\n",
    "    - `try`-`except`\n",
    "    - Specific `except` values\n",
    "    - Multiple `except` values\n",
    "    - `finally`\n",
    "    - `else`\n",
    "4. Raising exceptions\n",
    "5. Custom exception classes\n",
    "6. Custom exception handling"
   ]
  },
  {
   "cell_type": "markdown",
   "id": "3bfbb386-b691-48af-b878-45747a17f3ca",
   "metadata": {},
   "source": [
    "# Data vs. metadata\n",
    "\n",
    "If your function returns the temperature, it needs a way to indicate that the reading failed. If it returns -999, someone will eventually call your function, get -999 back, and treat it as an actual temperature!\n",
    "\n",
    "An exception is a separate communications channel within your program that lets one part indicate to another part that something unusual has happened. This means that someone who calls a function cannot accidentally take this exception as actual data.\n",
    "\n",
    "Moreover, the exception needs to be handled right away!"
   ]
  },
  {
   "cell_type": "code",
   "execution_count": null,
   "id": "7d24bd70-d31b-417d-8d7b-32a7238c7a5e",
   "metadata": {},
   "outputs": [],
   "source": [
    "#!/usr/bin/env python3\n",
    "\n",
    "x = [10, 20, 30]\n",
    "\n",
    "y = x[4]    # y = x.__getitem__(4)\n",
    "print(y)\n"
   ]
  },
  {
   "cell_type": "markdown",
   "id": "c3aebc0f-041f-465c-a416-5936370bbb55",
   "metadata": {},
   "source": [
    "# Some basics about exceptions\n",
    "\n",
    "1. An exception is *not* necessarily an error! It's an unusual situation in the program that we are being notified has taken place. Think of exceptions as an internal communications mechanism that cannot be ignored.\n",
    "2. There are different types of exceptions. In the case of our example (above), we got an `IndexError` exception.\n",
    "3. Every exception has a message along with the exception type itself.\n",
    "4. Exceptions can be handled. Only if an exception isn't handled by anyone does Python exit, complaining of an unhandled exception."
   ]
  },
  {
   "cell_type": "code",
   "execution_count": 3,
   "id": "060d3ec4-ecb2-4a9f-92ac-c09a0c2c95c4",
   "metadata": {},
   "outputs": [
    {
     "name": "stdout",
     "output_type": "stream",
     "text": [
      "Start\n",
      "About to assign\n",
      "Something went wrong.\n",
      "End\n"
     ]
    }
   ],
   "source": [
    "# rewrite it, using some exception handling\n",
    "\n",
    "x = [10, 20, 30]\n",
    "\n",
    "print('Start')\n",
    "try:    # this means: run the code in this block, but if there is an exception, jump to the \"except\" block right away\n",
    "    print('About to assign')\n",
    "    y = x[4]    \n",
    "    print('Done assigning')\n",
    "    print(y)\n",
    "    print('Done printing y')\n",
    "except:\n",
    "    print('Something went wrong.')\n",
    "print('End')"
   ]
  },
  {
   "cell_type": "markdown",
   "id": "826b5ad1-4064-46b3-bec7-ea29c1ba708b",
   "metadata": {},
   "source": [
    "# Good uses of `try`/`except`\n",
    "\n",
    "1. Keep the block as short/small as possible.\n",
    "2. You only want to use `try` on a block where you know something might go wrong, and/or you can identify what happened as an exception\n",
    "3. You only want to trap an exception if you have a plan for what to do afterward\n",
    "4. Keep the `except` specific."
   ]
  },
  {
   "cell_type": "code",
   "execution_count": 5,
   "id": "12888184-42ec-4871-9651-4077407a637c",
   "metadata": {},
   "outputs": [
    {
     "name": "stdout",
     "output_type": "stream",
     "text": [
      "Something went wrong with the index.\n"
     ]
    }
   ],
   "source": [
    "# let's make this code more specific -- we should know in advance what exception(s) we're willing \n",
    "# to trap. In this case, we're willing to trap *all* exceptions, of any sort.\n",
    "\n",
    "# it's considered idiomatic to indicate what type of exception we're trapping, by putting the name\n",
    "# after the keyword \"except\"\n",
    "\n",
    "x = [10, 20, 30]\n",
    "\n",
    "try: \n",
    "    y = x[4]    \n",
    "    print(y)\n",
    "except IndexError:\n",
    "    print('Something went wrong with the index.')"
   ]
  },
  {
   "cell_type": "code",
   "execution_count": 6,
   "id": "99b05e37-27a9-4a9e-a7d6-8e3e2da355fe",
   "metadata": {},
   "outputs": [
    {
     "ename": "ZeroDivisionError",
     "evalue": "division by zero",
     "output_type": "error",
     "traceback": [
      "\u001b[0;31m---------------------------------------------------------------------------\u001b[0m",
      "\u001b[0;31mZeroDivisionError\u001b[0m                         Traceback (most recent call last)",
      "Cell \u001b[0;32mIn[6], line 4\u001b[0m\n\u001b[1;32m      1\u001b[0m x \u001b[38;5;241m=\u001b[39m [\u001b[38;5;241m10\u001b[39m, \u001b[38;5;241m20\u001b[39m, \u001b[38;5;241m30\u001b[39m]\n\u001b[1;32m      3\u001b[0m \u001b[38;5;28;01mtry\u001b[39;00m: \n\u001b[0;32m----> 4\u001b[0m     y \u001b[38;5;241m=\u001b[39m \u001b[38;5;241;43m100\u001b[39;49m\u001b[43m \u001b[49m\u001b[38;5;241;43m/\u001b[39;49m\u001b[43m \u001b[49m\u001b[38;5;241;43m0\u001b[39;49m  \u001b[38;5;66;03m# this won't work.. but it won't raise an IndexError, either.\u001b[39;00m\n\u001b[1;32m      5\u001b[0m     \u001b[38;5;28mprint\u001b[39m(y)\n\u001b[1;32m      6\u001b[0m \u001b[38;5;28;01mexcept\u001b[39;00m \u001b[38;5;167;01mIndexError\u001b[39;00m:\n",
      "\u001b[0;31mZeroDivisionError\u001b[0m: division by zero"
     ]
    }
   ],
   "source": [
    "x = [10, 20, 30]\n",
    "\n",
    "try: \n",
    "    y = 100 / 0  # this won't work.. but it won't raise an IndexError, either.\n",
    "    print(y)\n",
    "except IndexError:\n",
    "    print('Something went wrong with the index.')"
   ]
  },
  {
   "cell_type": "code",
   "execution_count": 7,
   "id": "0ade79ef-2d63-42d8-bcea-98bd51d78aa1",
   "metadata": {},
   "outputs": [
    {
     "name": "stdout",
     "output_type": "stream",
     "text": [
      "Try to avoid dividing by zero.\n"
     ]
    }
   ],
   "source": [
    "x = [10, 20, 30]\n",
    "\n",
    "try: \n",
    "    y = 100 / 0  # this won't work.. but it won't raise an IndexError, either.\n",
    "    print(y)\n",
    "except ZeroDivisionError:\n",
    "    print('Try to avoid dividing by zero.')"
   ]
  },
  {
   "cell_type": "code",
   "execution_count": 9,
   "id": "d18c82c3-80ee-4b9e-865b-6d0b0801505f",
   "metadata": {},
   "outputs": [
    {
     "name": "stdout",
     "output_type": "stream",
     "text": [
      "You had an index error.\n"
     ]
    }
   ],
   "source": [
    "x = [10, 20, 30]\n",
    "\n",
    "try: \n",
    "    y = x[4]\n",
    "    print(y)\n",
    "except ZeroDivisionError:\n",
    "    print('Try to avoid dividing by zero.')\n",
    "except IndexError:\n",
    "    print('You had an index error.')"
   ]
  },
  {
   "cell_type": "code",
   "execution_count": null,
   "id": "08298d90-087e-4da7-9ca1-c46da89b666e",
   "metadata": {
    "jupyter": {
     "source_hidden": true
    }
   },
   "outputs": [],
   "source": [
    "# let's add a clause at the end with just \"except\", to grab any other exceptions\n",
    "\n",
    "x = [10, 20, 30]\n",
    "\n",
    "try: \n",
    "    y = x[4]\n",
    "    print(y)\n",
    "except ZeroDivisionError:\n",
    "    print('Try to avoid dividing by zero.')\n",
    "except IndexError:\n",
    "    print('You had an index error.')\n",
    "\n",
    "# Python best practice is: don't do this!\n",
    "# you should have a plan for what to do with an exception, and a generic exception isn't really plannable\n",
    "\n",
    "# Practically speaking, you want to know if something truly unusual and bad happened, and maybe log it!\n",
    "# Diaper pattern, aka diaper anti-pattern\n",
    "except:\n",
    "    print('Some other error occurred.')"
   ]
  },
  {
   "cell_type": "code",
   "execution_count": 14,
   "id": "8bd579d5-042c-4bcd-aea8-6613ad44d409",
   "metadata": {},
   "outputs": [
    {
     "name": "stdout",
     "output_type": "stream",
     "text": [
      "You had an index error: list index out of range\n"
     ]
    }
   ],
   "source": [
    "# trapping the exception message\n",
    "\n",
    "# when an exception is raised, that happens with both an exception type and\n",
    "# an exception message.  Right now, we cannot print the original message\n",
    "# that came with the exception.\n",
    "\n",
    "# we can change that by modifying the syntax of our \"except\" line, \n",
    "# such that the exception object is put into an variable -- traditionally called \"e\".\n",
    "\n",
    "x = [10, 20, 30]\n",
    "\n",
    "try: \n",
    "    y = x[4]\n",
    "    print(y)\n",
    "except ZeroDivisionError as e:\n",
    "    print(f'Try to avoid dividing by zero: {e}')\n",
    "except IndexError as e:\n",
    "    print(f'You had an index error: {e}')\n",
    "    # print(type(e))\n",
    "    # print(dir(e))\n",
    "except Exception as e:\n",
    "    print(f'Some other error occurred: {e}')"
   ]
  },
  {
   "cell_type": "code",
   "execution_count": 11,
   "id": "11d02eaa-8c95-4389-9cbe-fc8ffdde7036",
   "metadata": {},
   "outputs": [
    {
     "ename": "NameError",
     "evalue": "name 'e' is not defined",
     "output_type": "error",
     "traceback": [
      "\u001b[0;31m---------------------------------------------------------------------------\u001b[0m",
      "\u001b[0;31mNameError\u001b[0m                                 Traceback (most recent call last)",
      "Cell \u001b[0;32mIn[11], line 1\u001b[0m\n\u001b[0;32m----> 1\u001b[0m \u001b[43me\u001b[49m\n",
      "\u001b[0;31mNameError\u001b[0m: name 'e' is not defined"
     ]
    }
   ],
   "source": [
    "e"
   ]
  },
  {
   "cell_type": "markdown",
   "id": "b545489c-5a8c-49a2-b3c0-d3eeef01d201",
   "metadata": {},
   "source": [
    "List of exceptions in the standard library: \n",
    "\n",
    "https://docs.python.org/3/library/exceptions.html"
   ]
  },
  {
   "cell_type": "markdown",
   "id": "8ea04fa4-4ea8-4477-b1fe-669a3050a832",
   "metadata": {},
   "source": [
    "# Handling user input\n",
    "\n",
    "Let's generate a random integer from 0 to 100, and then let the user guess. They will be told that the number is too low, too high, or they got it (in which case the loop/program ends).\n",
    "\n"
   ]
  },
  {
   "cell_type": "code",
   "execution_count": 16,
   "id": "a5de51e9-c4ba-4005-9910-8f617ec845e1",
   "metadata": {},
   "outputs": [
    {
     "name": "stdin",
     "output_type": "stream",
     "text": [
      "Enter your guess:  50\n"
     ]
    },
    {
     "name": "stdout",
     "output_type": "stream",
     "text": [
      "Too high!\n"
     ]
    },
    {
     "name": "stdin",
     "output_type": "stream",
     "text": [
      "Enter your guess:  -10\n"
     ]
    },
    {
     "name": "stdout",
     "output_type": "stream",
     "text": [
      "Too low!\n"
     ]
    },
    {
     "name": "stdin",
     "output_type": "stream",
     "text": [
      "Enter your guess:  asdfafadfas\n"
     ]
    },
    {
     "ename": "ValueError",
     "evalue": "invalid literal for int() with base 10: 'asdfafadfas'",
     "output_type": "error",
     "traceback": [
      "\u001b[0;31m---------------------------------------------------------------------------\u001b[0m",
      "\u001b[0;31mValueError\u001b[0m                                Traceback (most recent call last)",
      "Cell \u001b[0;32mIn[16], line 8\u001b[0m\n\u001b[1;32m      6\u001b[0m \u001b[38;5;28;01mwhile\u001b[39;00m \u001b[38;5;28;01mTrue\u001b[39;00m:\n\u001b[1;32m      7\u001b[0m     s \u001b[38;5;241m=\u001b[39m \u001b[38;5;28minput\u001b[39m(\u001b[38;5;124m'\u001b[39m\u001b[38;5;124mEnter your guess: \u001b[39m\u001b[38;5;124m'\u001b[39m)\u001b[38;5;241m.\u001b[39mstrip()\n\u001b[0;32m----> 8\u001b[0m     guess \u001b[38;5;241m=\u001b[39m \u001b[38;5;28;43mint\u001b[39;49m\u001b[43m(\u001b[49m\u001b[43ms\u001b[49m\u001b[43m)\u001b[49m\n\u001b[1;32m     10\u001b[0m     \u001b[38;5;28;01mif\u001b[39;00m guess \u001b[38;5;241m<\u001b[39m number:\n\u001b[1;32m     11\u001b[0m         \u001b[38;5;28mprint\u001b[39m(\u001b[38;5;124m'\u001b[39m\u001b[38;5;124mToo low!\u001b[39m\u001b[38;5;124m'\u001b[39m)\n",
      "\u001b[0;31mValueError\u001b[0m: invalid literal for int() with base 10: 'asdfafadfas'"
     ]
    }
   ],
   "source": [
    "import random \n",
    "\n",
    "random.seed(0)\n",
    "number = random.randint(0, 100)\n",
    "\n",
    "while True:\n",
    "    s = input('Enter your guess: ').strip()\n",
    "    guess = int(s)\n",
    "\n",
    "    if guess < number:\n",
    "        print('Too low!')\n",
    "    elif guess > number:\n",
    "        print('Too high!')\n",
    "    else:\n",
    "        print('You got it!')\n",
    "        break"
   ]
  },
  {
   "cell_type": "code",
   "execution_count": 17,
   "id": "b1dbc09b-a0fe-48b5-83cd-5a217b127b6a",
   "metadata": {},
   "outputs": [
    {
     "name": "stdin",
     "output_type": "stream",
     "text": [
      "Enter your guess:  50\n"
     ]
    },
    {
     "name": "stdout",
     "output_type": "stream",
     "text": [
      "Too high!\n"
     ]
    },
    {
     "name": "stdin",
     "output_type": "stream",
     "text": [
      "Enter your guess:  asdfasdfa\n"
     ]
    },
    {
     "name": "stdout",
     "output_type": "stream",
     "text": [
      "asdfasdfa is not numeric; try again\n"
     ]
    },
    {
     "name": "stdin",
     "output_type": "stream",
     "text": [
      "Enter your guess:  -20\n"
     ]
    },
    {
     "name": "stdout",
     "output_type": "stream",
     "text": [
      "-20 is not numeric; try again\n"
     ]
    },
    {
     "name": "stdin",
     "output_type": "stream",
     "text": [
      "Enter your guess:  25\n"
     ]
    },
    {
     "name": "stdout",
     "output_type": "stream",
     "text": [
      "Too low!\n"
     ]
    },
    {
     "name": "stdin",
     "output_type": "stream",
     "text": [
      "Enter your guess:  32\n"
     ]
    },
    {
     "name": "stdout",
     "output_type": "stream",
     "text": [
      "Too low!\n"
     ]
    },
    {
     "name": "stdin",
     "output_type": "stream",
     "text": [
      "Enter your guess:  38\n"
     ]
    },
    {
     "name": "stdout",
     "output_type": "stream",
     "text": [
      "Too low!\n"
     ]
    },
    {
     "name": "stdin",
     "output_type": "stream",
     "text": [
      "Enter your guess:  42\n"
     ]
    },
    {
     "name": "stdout",
     "output_type": "stream",
     "text": [
      "Too low!\n"
     ]
    },
    {
     "name": "stdin",
     "output_type": "stream",
     "text": [
      "Enter your guess:  49\n"
     ]
    },
    {
     "name": "stdout",
     "output_type": "stream",
     "text": [
      "You got it!\n"
     ]
    }
   ],
   "source": [
    "# option 1: use str.isdigit\n",
    "\n",
    "import random \n",
    "\n",
    "random.seed(0)\n",
    "number = random.randint(0, 100)\n",
    "\n",
    "while True:\n",
    "    s = input('Enter your guess: ').strip()\n",
    "    if s.isdigit():\n",
    "        guess = int(s)\n",
    "    \n",
    "        if guess < number:\n",
    "            print('Too low!')\n",
    "        elif guess > number:\n",
    "            print('Too high!')\n",
    "        else:\n",
    "            print('You got it!')\n",
    "            break\n",
    "    else:\n",
    "        print(f'{s} is not numeric; try again')"
   ]
  },
  {
   "cell_type": "code",
   "execution_count": 18,
   "id": "640ce9b1-63cc-4582-a476-06fe974c2973",
   "metadata": {},
   "outputs": [
    {
     "name": "stdin",
     "output_type": "stream",
     "text": [
      "Enter your guess:  50\n"
     ]
    },
    {
     "name": "stdout",
     "output_type": "stream",
     "text": [
      "Too high!\n"
     ]
    },
    {
     "name": "stdin",
     "output_type": "stream",
     "text": [
      "Enter your guess:  -100\n"
     ]
    },
    {
     "name": "stdout",
     "output_type": "stream",
     "text": [
      "Too low!\n"
     ]
    },
    {
     "name": "stdin",
     "output_type": "stream",
     "text": [
      "Enter your guess:  abcd\n"
     ]
    },
    {
     "name": "stdout",
     "output_type": "stream",
     "text": [
      "abcd is not numeric; try again\n"
     ]
    },
    {
     "name": "stdin",
     "output_type": "stream",
     "text": [
      "Enter your guess:  49\n"
     ]
    },
    {
     "name": "stdout",
     "output_type": "stream",
     "text": [
      "You got it!\n"
     ]
    }
   ],
   "source": [
    "# option 2: use exceptions\n",
    "\n",
    "import random \n",
    "\n",
    "random.seed(0)\n",
    "number = random.randint(0, 100)\n",
    "\n",
    "while True:\n",
    "    s = input('Enter your guess: ').strip()\n",
    "\n",
    "    try:\n",
    "        guess = int(s)\n",
    "    \n",
    "        if guess < number:\n",
    "            print('Too low!')\n",
    "        elif guess > number:\n",
    "            print('Too high!')\n",
    "        else:\n",
    "            print('You got it!')\n",
    "            break\n",
    "    except ValueError as e:\n",
    "        print(f'{s} is not numeric; try again')"
   ]
  },
  {
   "cell_type": "markdown",
   "id": "8a6fc1bd-5754-4617-82cf-d3657ccf5a36",
   "metadata": {},
   "source": [
    "# Raising exceptions\n",
    "\n",
    "If you want to raise an exception in your program, just use the `raise` keyword:\n",
    "\n"
   ]
  },
  {
   "cell_type": "code",
   "execution_count": 27,
   "id": "fa2263b4-47f6-4dd4-b061-42fa486b759b",
   "metadata": {},
   "outputs": [
    {
     "ename": "IndexError",
     "evalue": "Bad index!",
     "output_type": "error",
     "traceback": [
      "\u001b[0;31m---------------------------------------------------------------------------\u001b[0m",
      "\u001b[0;31mIndexError\u001b[0m                                Traceback (most recent call last)",
      "Cell \u001b[0;32mIn[27], line 5\u001b[0m\n\u001b[1;32m      1\u001b[0m \u001b[38;5;66;03m# when we raise an exception, we're creating an instance of an exception class\u001b[39;00m\n\u001b[1;32m      2\u001b[0m \u001b[38;5;66;03m# put the message string as an argument to the class\u001b[39;00m\n\u001b[0;32m----> 5\u001b[0m \u001b[38;5;28;01mraise\u001b[39;00m \u001b[38;5;167;01mIndexError\u001b[39;00m(\u001b[38;5;124m'\u001b[39m\u001b[38;5;124mBad index!\u001b[39m\u001b[38;5;124m'\u001b[39m)\n",
      "\u001b[0;31mIndexError\u001b[0m: Bad index!"
     ]
    }
   ],
   "source": [
    "# when we raise an exception, we're creating an instance of an exception class\n",
    "# put the message string as an argument to the class\n",
    "\n",
    "\n",
    "raise IndexError('Bad index!')"
   ]
  },
  {
   "cell_type": "markdown",
   "id": "24d4ecde-cc15-4a60-a81d-3079e2259b4f",
   "metadata": {},
   "source": [
    "# Don't raise built-in exceptions\n",
    "\n",
    "You can (technically) raise any exception you want. However, it's generally frowned upon to raise a builtin exception such as `IndexError` or `ValueError`.\n",
    "\n",
    "Not only does doing so confuse people (because they think it's from something in Python), but it doesn't give you the chance to distinguish between what you're doing and what Python is doing."
   ]
  },
  {
   "cell_type": "code",
   "execution_count": 28,
   "id": "f2d8996f-b4fe-41f3-ba6f-6877224bfd2d",
   "metadata": {},
   "outputs": [],
   "source": [
    "# to create an exception class, just define an empty class (i.e., one with \"pass\" as its body) that \n",
    "# inherits from Exception\n",
    "\n",
    "class ReuvenException(Exception):\n",
    "    pass   # this is here as a placeholder, when we have nothing to say in our class"
   ]
  },
  {
   "cell_type": "code",
   "execution_count": 29,
   "id": "c05055c4-7a86-4d54-8be2-9a932be00bfc",
   "metadata": {},
   "outputs": [
    {
     "ename": "ReuvenException",
     "evalue": "Hi there",
     "output_type": "error",
     "traceback": [
      "\u001b[0;31m---------------------------------------------------------------------------\u001b[0m",
      "\u001b[0;31mReuvenException\u001b[0m                           Traceback (most recent call last)",
      "Cell \u001b[0;32mIn[29], line 1\u001b[0m\n\u001b[0;32m----> 1\u001b[0m \u001b[38;5;28;01mraise\u001b[39;00m ReuvenException(\u001b[38;5;124m'\u001b[39m\u001b[38;5;124mHi there\u001b[39m\u001b[38;5;124m'\u001b[39m)\n",
      "\u001b[0;31mReuvenException\u001b[0m: Hi there"
     ]
    }
   ],
   "source": [
    "raise ReuvenException('Hi there')"
   ]
  },
  {
   "cell_type": "markdown",
   "id": "93a12b95-ca14-41fe-adc6-57a5ed73abfe",
   "metadata": {},
   "source": [
    "# Some exception-related keywords\n",
    "\n",
    "- `finally` -- this comes after `except`, and it means: Always execute this block of code, regardless of whether the exception occurred. If the exception happened, then this code will run after the `except` block. If the exception *didn't* happen, then it will run after the `try` block. This block **ALWAYS** runs, no exception (no pun intended).  When would you want such a thing? Typically, to clean up files / data structures that might have been created elsewhere, without doubling the code.\n",
    "- `else` -- If you have code that should only run if no exception was raised, and you don't want it in the `try` block for aesthetic reasons, and if you don't want its potential exceptions to be trapped by `try`, then you can put it in `else`."
   ]
  },
  {
   "cell_type": "markdown",
   "id": "9c05e99d-9594-46f5-b55a-f0e51bc1dc17",
   "metadata": {},
   "source": [
    "# Custom exception handling\n",
    "\n",
    "We see that Jupyter is able to avoid exiting when there is an unhandled exception. How does it manage to trap *all* exceptions taking place? The answer is the `sys.excepthook` variable, to which you can assign a function."
   ]
  },
  {
   "cell_type": "code",
   "execution_count": 30,
   "id": "2a834f39-2329-4534-b721-27c74b866a7d",
   "metadata": {},
   "outputs": [
    {
     "data": {
      "text/plain": [
       "<bound method InteractiveShell.excepthook of <ipykernel.zmqshell.ZMQInteractiveShell object at 0x1115b4590>>"
      ]
     },
     "execution_count": 30,
     "metadata": {},
     "output_type": "execute_result"
    }
   ],
   "source": [
    "import sys\n",
    "sys.excepthook"
   ]
  },
  {
   "cell_type": "code",
   "execution_count": 31,
   "id": "eb22b1ed-4894-4ee9-96eb-609f0bff7bd4",
   "metadata": {},
   "outputs": [
    {
     "data": {
      "text/plain": [
       "\u001b[0;31mSignature:\u001b[0m \u001b[0msys\u001b[0m\u001b[0;34m.\u001b[0m\u001b[0mexcepthook\u001b[0m\u001b[0;34m(\u001b[0m\u001b[0metype\u001b[0m\u001b[0;34m,\u001b[0m \u001b[0mvalue\u001b[0m\u001b[0;34m,\u001b[0m \u001b[0mtb\u001b[0m\u001b[0;34m)\u001b[0m\u001b[0;34m\u001b[0m\u001b[0;34m\u001b[0m\u001b[0m\n",
       "\u001b[0;31mSource:\u001b[0m   \n",
       "    \u001b[0;32mdef\u001b[0m \u001b[0mexcepthook\u001b[0m\u001b[0;34m(\u001b[0m\u001b[0mself\u001b[0m\u001b[0;34m,\u001b[0m \u001b[0metype\u001b[0m\u001b[0;34m,\u001b[0m \u001b[0mvalue\u001b[0m\u001b[0;34m,\u001b[0m \u001b[0mtb\u001b[0m\u001b[0;34m)\u001b[0m\u001b[0;34m:\u001b[0m\u001b[0;34m\u001b[0m\n",
       "\u001b[0;34m\u001b[0m        \u001b[0;34m\"\"\"One more defense for GUI apps that call sys.excepthook.\u001b[0m\n",
       "\u001b[0;34m\u001b[0m\n",
       "\u001b[0;34m        GUI frameworks like wxPython trap exceptions and call\u001b[0m\n",
       "\u001b[0;34m        sys.excepthook themselves.  I guess this is a feature that\u001b[0m\n",
       "\u001b[0;34m        enables them to keep running after exceptions that would\u001b[0m\n",
       "\u001b[0;34m        otherwise kill their mainloop. This is a bother for IPython\u001b[0m\n",
       "\u001b[0;34m        which expects to catch all of the program exceptions with a try:\u001b[0m\n",
       "\u001b[0;34m        except: statement.\u001b[0m\n",
       "\u001b[0;34m\u001b[0m\n",
       "\u001b[0;34m        Normally, IPython sets sys.excepthook to a CrashHandler instance, so if\u001b[0m\n",
       "\u001b[0;34m        any app directly invokes sys.excepthook, it will look to the user like\u001b[0m\n",
       "\u001b[0;34m        IPython crashed.  In order to work around this, we can disable the\u001b[0m\n",
       "\u001b[0;34m        CrashHandler and replace it with this excepthook instead, which prints a\u001b[0m\n",
       "\u001b[0;34m        regular traceback using our InteractiveTB.  In this fashion, apps which\u001b[0m\n",
       "\u001b[0;34m        call sys.excepthook will generate a regular-looking exception from\u001b[0m\n",
       "\u001b[0;34m        IPython, and the CrashHandler will only be triggered by real IPython\u001b[0m\n",
       "\u001b[0;34m        crashes.\u001b[0m\n",
       "\u001b[0;34m\u001b[0m\n",
       "\u001b[0;34m        This hook should be used sparingly, only in places which are not likely\u001b[0m\n",
       "\u001b[0;34m        to be true IPython errors.\u001b[0m\n",
       "\u001b[0;34m        \"\"\"\u001b[0m\u001b[0;34m\u001b[0m\n",
       "\u001b[0;34m\u001b[0m        \u001b[0mself\u001b[0m\u001b[0;34m.\u001b[0m\u001b[0mshowtraceback\u001b[0m\u001b[0;34m(\u001b[0m\u001b[0;34m(\u001b[0m\u001b[0metype\u001b[0m\u001b[0;34m,\u001b[0m \u001b[0mvalue\u001b[0m\u001b[0;34m,\u001b[0m \u001b[0mtb\u001b[0m\u001b[0;34m)\u001b[0m\u001b[0;34m,\u001b[0m \u001b[0mtb_offset\u001b[0m\u001b[0;34m=\u001b[0m\u001b[0;36m0\u001b[0m\u001b[0;34m)\u001b[0m\u001b[0;34m\u001b[0m\u001b[0;34m\u001b[0m\u001b[0m\n",
       "\u001b[0;31mFile:\u001b[0m      ~/.pyenv/versions/3.13.0/lib/python3.13/site-packages/IPython/core/interactiveshell.py\n",
       "\u001b[0;31mType:\u001b[0m      method"
      ]
     },
     "metadata": {},
     "output_type": "display_data"
    }
   ],
   "source": [
    "sys.excepthook??"
   ]
  },
  {
   "cell_type": "markdown",
   "id": "06da21fc-4343-4427-8528-0d2158b5f88b",
   "metadata": {},
   "source": [
    "# Warnings\n",
    "\n",
    "There is a cousin to exceptions known as \"warnings,\" which partly use the exception mechanism in Python, but which are controlled in a separate, different way. Warnigns are all about telling the person that something is wrong without stopping the program flow.\n",
    "\n",
    "https://www.youtube.com/watch?v=X0AjcpicNOM"
   ]
  },
  {
   "cell_type": "code",
   "execution_count": null,
   "id": "93d4a063-81b7-4514-8002-f54db2540af1",
   "metadata": {},
   "outputs": [],
   "source": []
  }
 ],
 "metadata": {
  "kernelspec": {
   "display_name": "Python 3 (ipykernel)",
   "language": "python",
   "name": "python3"
  },
  "language_info": {
   "codemirror_mode": {
    "name": "ipython",
    "version": 3
   },
   "file_extension": ".py",
   "mimetype": "text/x-python",
   "name": "python",
   "nbconvert_exporter": "python",
   "pygments_lexer": "ipython3",
   "version": "3.12.6"
  }
 },
 "nbformat": 4,
 "nbformat_minor": 5
}
